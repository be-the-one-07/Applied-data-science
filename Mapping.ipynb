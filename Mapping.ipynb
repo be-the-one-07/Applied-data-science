{
  "metadata": {
    "kernelspec": {
      "name": "python",
      "display_name": "Python (Pyodide)",
      "language": "python"
    },
    "language_info": {
      "codemirror_mode": {
        "name": "python",
        "version": 3
      },
      "file_extension": ".py",
      "mimetype": "text/x-python",
      "name": "python",
      "nbconvert_exporter": "python",
      "pygments_lexer": "ipython3",
      "version": "3.8"
    }
  },
  "nbformat_minor": 4,
  "nbformat": 4,
  "cells": [
    {
      "cell_type": "code",
      "source": "import piplite\nawait piplite.install(['folium'])\nawait piplite.install(['pandas'])",
      "metadata": {
        "trusted": true
      },
      "outputs": [],
      "execution_count": 1
    },
    {
      "cell_type": "code",
      "source": "import folium\nimport pandas as pd",
      "metadata": {
        "trusted": true
      },
      "outputs": [],
      "execution_count": 2
    },
    {
      "cell_type": "code",
      "source": "# Import folium MarkerCluster plugin\nfrom folium.plugins import MarkerCluster\n# Import folium MousePosition plugin\nfrom folium.plugins import MousePosition\n# Import folium DivIcon plugin\nfrom folium.features import DivIcon",
      "metadata": {
        "trusted": true
      },
      "outputs": [],
      "execution_count": 3
    },
    {
      "cell_type": "code",
      "source": "# Download and read the `spacex_launch_geo.csv`\nfrom js import fetch\nimport io\n\nURL = 'https://cf-courses-data.s3.us.cloud-object-storage.appdomain.cloud/IBM-DS0321EN-SkillsNetwork/datasets/spacex_launch_geo.csv'\nresp = await fetch(URL)\nspacex_csv_file = io.BytesIO((await resp.arrayBuffer()).to_py())\nspacex_df=pd.read_csv(spacex_csv_file)",
      "metadata": {
        "trusted": true
      },
      "outputs": [],
      "execution_count": 4
    },
    {
      "cell_type": "code",
      "source": "spacex_df = spacex_df[['Launch Site', 'Lat', 'Long', 'class']]\nlaunch_sites_df = spacex_df.groupby(['Launch Site'], as_index=False).first()\nlaunch_sites_df = launch_sites_df[['Launch Site', 'Lat', 'Long']]\nlaunch_sites_df",
      "metadata": {
        "trusted": true
      },
      "outputs": [
        {
          "execution_count": 5,
          "output_type": "execute_result",
          "data": {
            "text/plain": "    Launch Site        Lat        Long\n0   CCAFS LC-40  28.562302  -80.577356\n1  CCAFS SLC-40  28.563197  -80.576820\n2    KSC LC-39A  28.573255  -80.646895\n3   VAFB SLC-4E  34.632834 -120.610745",
            "text/html": "<div>\n<style scoped>\n    .dataframe tbody tr th:only-of-type {\n        vertical-align: middle;\n    }\n\n    .dataframe tbody tr th {\n        vertical-align: top;\n    }\n\n    .dataframe thead th {\n        text-align: right;\n    }\n</style>\n<table border=\"1\" class=\"dataframe\">\n  <thead>\n    <tr style=\"text-align: right;\">\n      <th></th>\n      <th>Launch Site</th>\n      <th>Lat</th>\n      <th>Long</th>\n    </tr>\n  </thead>\n  <tbody>\n    <tr>\n      <th>0</th>\n      <td>CCAFS LC-40</td>\n      <td>28.562302</td>\n      <td>-80.577356</td>\n    </tr>\n    <tr>\n      <th>1</th>\n      <td>CCAFS SLC-40</td>\n      <td>28.563197</td>\n      <td>-80.576820</td>\n    </tr>\n    <tr>\n      <th>2</th>\n      <td>KSC LC-39A</td>\n      <td>28.573255</td>\n      <td>-80.646895</td>\n    </tr>\n    <tr>\n      <th>3</th>\n      <td>VAFB SLC-4E</td>\n      <td>34.632834</td>\n      <td>-120.610745</td>\n    </tr>\n  </tbody>\n</table>\n</div>"
          },
          "metadata": {}
        }
      ],
      "execution_count": 5
    },
    {
      "cell_type": "code",
      "source": "nasa_coordinate = [29.559684888503615, -95.0830971930759]\nsite_map = folium.Map(location=nasa_coordinate, zoom_start=10)",
      "metadata": {
        "trusted": true
      },
      "outputs": [],
      "execution_count": 6
    },
    {
      "cell_type": "code",
      "source": "# Create a blue circle at NASA Johnson Space Center's coordinate with a popup label showing its name\ncircle = folium.Circle(nasa_coordinate, radius=1000, color='#d35400', fill=True).add_child(folium.Popup('NASA Johnson Space Center'))\n# Create a blue circle at NASA Johnson Space Center's coordinate with a icon showing its name\nmarker = folium.map.Marker(\n    nasa_coordinate,\n    # Create an icon as a text label\n    icon=DivIcon(\n        icon_size=(20,20),\n        icon_anchor=(0,0),\n        html='<div style=\"font-size: 12; color:#d35400;\"><b>%s</b></div>' % 'NASA JSC',\n        )\n    )\nsite_map.add_child(circle)\nsite_map.add_child(marker)",
      "metadata": {
        "trusted": true
      },
      "outputs": [
        {
          "execution_count": 7,
          "output_type": "execute_result",
          "data": {
            "text/plain": "<folium.folium.Map at 0x5b9d9b0>",
            "text/html": "<div style=\"width:100%;\"><div style=\"position:relative;width:100%;height:0;padding-bottom:60%;\"><span style=\"color:#565656\">Make this Notebook Trusted to load map: File -> Trust Notebook</span><iframe srcdoc=\"&lt;!DOCTYPE html&gt;\n&lt;html&gt;\n&lt;head&gt;\n    \n    &lt;meta http-equiv=&quot;content-type&quot; content=&quot;text/html; charset=UTF-8&quot; /&gt;\n    &lt;script src=&quot;https://cdn.jsdelivr.net/npm/leaflet@1.9.3/dist/leaflet.js&quot;&gt;&lt;/script&gt;\n    &lt;script src=&quot;https://code.jquery.com/jquery-3.7.1.min.js&quot;&gt;&lt;/script&gt;\n    &lt;script src=&quot;https://cdn.jsdelivr.net/npm/bootstrap@5.2.2/dist/js/bootstrap.bundle.min.js&quot;&gt;&lt;/script&gt;\n    &lt;script src=&quot;https://cdnjs.cloudflare.com/ajax/libs/Leaflet.awesome-markers/2.0.2/leaflet.awesome-markers.js&quot;&gt;&lt;/script&gt;\n    &lt;link rel=&quot;stylesheet&quot; href=&quot;https://cdn.jsdelivr.net/npm/leaflet@1.9.3/dist/leaflet.css&quot;/&gt;\n    &lt;link rel=&quot;stylesheet&quot; href=&quot;https://cdn.jsdelivr.net/npm/bootstrap@5.2.2/dist/css/bootstrap.min.css&quot;/&gt;\n    &lt;link rel=&quot;stylesheet&quot; href=&quot;https://netdna.bootstrapcdn.com/bootstrap/3.0.0/css/bootstrap-glyphicons.css&quot;/&gt;\n    &lt;link rel=&quot;stylesheet&quot; href=&quot;https://cdn.jsdelivr.net/npm/@fortawesome/fontawesome-free@6.2.0/css/all.min.css&quot;/&gt;\n    &lt;link rel=&quot;stylesheet&quot; href=&quot;https://cdnjs.cloudflare.com/ajax/libs/Leaflet.awesome-markers/2.0.2/leaflet.awesome-markers.css&quot;/&gt;\n    &lt;link rel=&quot;stylesheet&quot; href=&quot;https://cdn.jsdelivr.net/gh/python-visualization/folium/folium/templates/leaflet.awesome.rotate.min.css&quot;/&gt;\n    \n            &lt;meta name=&quot;viewport&quot; content=&quot;width=device-width,\n                initial-scale=1.0, maximum-scale=1.0, user-scalable=no&quot; /&gt;\n            &lt;style&gt;\n                #map_be4705f4dfe5e91ec7399c3e70f06382 {\n                    position: relative;\n                    width: 100.0%;\n                    height: 100.0%;\n                    left: 0.0%;\n                    top: 0.0%;\n                }\n                .leaflet-container { font-size: 1rem; }\n            &lt;/style&gt;\n\n            &lt;style&gt;html, body {\n                width: 100%;\n                height: 100%;\n                margin: 0;\n                padding: 0;\n            }\n            &lt;/style&gt;\n\n            &lt;style&gt;#map {\n                position:absolute;\n                top:0;\n                bottom:0;\n                right:0;\n                left:0;\n                }\n            &lt;/style&gt;\n\n            &lt;script&gt;\n                L_NO_TOUCH = false;\n                L_DISABLE_3D = false;\n            &lt;/script&gt;\n\n        \n&lt;/head&gt;\n&lt;body&gt;\n    \n    \n            &lt;div class=&quot;folium-map&quot; id=&quot;map_be4705f4dfe5e91ec7399c3e70f06382&quot; &gt;&lt;/div&gt;\n        \n&lt;/body&gt;\n&lt;script&gt;\n    \n    \n            var map_be4705f4dfe5e91ec7399c3e70f06382 = L.map(\n                &quot;map_be4705f4dfe5e91ec7399c3e70f06382&quot;,\n                {\n                    center: [29.559684888503615, -95.0830971930759],\n                    crs: L.CRS.EPSG3857,\n                    ...{\n  &quot;zoom&quot;: 10,\n  &quot;zoomControl&quot;: true,\n  &quot;preferCanvas&quot;: false,\n}\n\n                }\n            );\n\n            \n\n        \n    \n            var tile_layer_2683492feab537cea3400152fb92100e = L.tileLayer(\n                &quot;https://tile.openstreetmap.org/{z}/{x}/{y}.png&quot;,\n                {\n  &quot;minZoom&quot;: 0,\n  &quot;maxZoom&quot;: 19,\n  &quot;maxNativeZoom&quot;: 19,\n  &quot;noWrap&quot;: false,\n  &quot;attribution&quot;: &quot;\\u0026copy; \\u003ca href=\\&quot;https://www.openstreetmap.org/copyright\\&quot;\\u003eOpenStreetMap\\u003c/a\\u003e contributors&quot;,\n  &quot;subdomains&quot;: &quot;abc&quot;,\n  &quot;detectRetina&quot;: false,\n  &quot;tms&quot;: false,\n  &quot;opacity&quot;: 1,\n}\n\n            );\n        \n    \n            tile_layer_2683492feab537cea3400152fb92100e.addTo(map_be4705f4dfe5e91ec7399c3e70f06382);\n        \n    \n            var circle_762dbf9450670c5d642bc340ee062906 = L.circle(\n                [29.559684888503615, -95.0830971930759],\n                {&quot;bubblingMouseEvents&quot;: true, &quot;color&quot;: &quot;#d35400&quot;, &quot;dashArray&quot;: null, &quot;dashOffset&quot;: null, &quot;fill&quot;: true, &quot;fillColor&quot;: &quot;#d35400&quot;, &quot;fillOpacity&quot;: 0.2, &quot;fillRule&quot;: &quot;evenodd&quot;, &quot;lineCap&quot;: &quot;round&quot;, &quot;lineJoin&quot;: &quot;round&quot;, &quot;opacity&quot;: 1.0, &quot;radius&quot;: 1000, &quot;stroke&quot;: true, &quot;weight&quot;: 3}\n            ).addTo(map_be4705f4dfe5e91ec7399c3e70f06382);\n        \n    \n        var popup_6f72f0989284203a3c795c0dde8d62f8 = L.popup({\n  &quot;maxWidth&quot;: &quot;100%&quot;,\n});\n\n        \n            \n                var html_304185220ec1b57fd758588399dfe4dd = $(`&lt;div id=&quot;html_304185220ec1b57fd758588399dfe4dd&quot; style=&quot;width: 100.0%; height: 100.0%;&quot;&gt;NASA Johnson Space Center&lt;/div&gt;`)[0];\n                popup_6f72f0989284203a3c795c0dde8d62f8.setContent(html_304185220ec1b57fd758588399dfe4dd);\n            \n        \n\n        circle_762dbf9450670c5d642bc340ee062906.bindPopup(popup_6f72f0989284203a3c795c0dde8d62f8)\n        ;\n\n        \n    \n    \n            var marker_44982fa3fa3321e836ca824792909016 = L.marker(\n                [29.559684888503615, -95.0830971930759],\n                {\n}\n            ).addTo(map_be4705f4dfe5e91ec7399c3e70f06382);\n        \n    \n            var div_icon_964b2751e6f6d74fac35f2d4f5b39ae9 = L.divIcon({\n  &quot;html&quot;: &quot;\\u003cdiv style=\\&quot;font-size: 12; color:#d35400;\\&quot;\\u003e\\u003cb\\u003eNASA JSC\\u003c/b\\u003e\\u003c/div\\u003e&quot;,\n  &quot;iconSize&quot;: [20, 20],\n  &quot;iconAnchor&quot;: [0, 0],\n  &quot;className&quot;: &quot;empty&quot;,\n});\n        \n    \n                marker_44982fa3fa3321e836ca824792909016.setIcon(div_icon_964b2751e6f6d74fac35f2d4f5b39ae9);\n            \n&lt;/script&gt;\n&lt;/html&gt;\" style=\"position:absolute;width:100%;height:100%;left:0;top:0;border:none !important;\" allowfullscreen webkitallowfullscreen mozallowfullscreen></iframe></div></div>"
          },
          "metadata": {}
        }
      ],
      "execution_count": 7
    },
    {
      "cell_type": "code",
      "source": "# Initial the map\nsite_map = folium.Map(location=nasa_coordinate, zoom_start=5)",
      "metadata": {
        "trusted": true
      },
      "outputs": [],
      "execution_count": 8
    },
    {
      "cell_type": "code",
      "source": "site_map = folium.Map(location=[launch_sites_df['Lat'].mean(), launch_sites_df['Long'].mean()], zoom_start=5)\n",
      "metadata": {
        "trusted": true
      },
      "outputs": [],
      "execution_count": 9
    },
    {
      "cell_type": "code",
      "source": "for index, site in launch_sites_df.iterrows():\n    coord = [site['Lat'], site['Long']]",
      "metadata": {
        "trusted": true
      },
      "outputs": [],
      "execution_count": 10
    },
    {
      "cell_type": "code",
      "source": "folium.Circle(\n        coord,\n        radius=1000,\n        color='#007849',\n        fill=True,\n        fill_opacity=0.6,\n        popup=site['Launch Site']\n    ).add_to(site_map)",
      "metadata": {
        "trusted": true
      },
      "outputs": [
        {
          "execution_count": 11,
          "output_type": "execute_result",
          "data": {
            "text/plain": "<folium.vector_layers.Circle at 0x51717b0>"
          },
          "metadata": {}
        }
      ],
      "execution_count": 11
    },
    {
      "cell_type": "code",
      "source": "folium.Marker(\n        coord,\n        icon=DivIcon(\n            icon_size=(150,36),\n            icon_anchor=(0,0),\n            html=f'<div style=\"font-size: 12pt; color:#007849;\"><b>{site[\"Launch Site\"]}</b></div>'\n        )\n    ).add_to(site_map)",
      "metadata": {
        "trusted": true
      },
      "outputs": [
        {
          "execution_count": 12,
          "output_type": "execute_result",
          "data": {
            "text/plain": "<folium.map.Marker at 0x3ce1770>"
          },
          "metadata": {}
        }
      ],
      "execution_count": 12
    },
    {
      "cell_type": "code",
      "source": "site_map",
      "metadata": {
        "trusted": true
      },
      "outputs": [
        {
          "execution_count": 13,
          "output_type": "execute_result",
          "data": {
            "text/plain": "<folium.folium.Map at 0x5eff0e8>",
            "text/html": "<div style=\"width:100%;\"><div style=\"position:relative;width:100%;height:0;padding-bottom:60%;\"><span style=\"color:#565656\">Make this Notebook Trusted to load map: File -> Trust Notebook</span><iframe srcdoc=\"&lt;!DOCTYPE html&gt;\n&lt;html&gt;\n&lt;head&gt;\n    \n    &lt;meta http-equiv=&quot;content-type&quot; content=&quot;text/html; charset=UTF-8&quot; /&gt;\n    &lt;script src=&quot;https://cdn.jsdelivr.net/npm/leaflet@1.9.3/dist/leaflet.js&quot;&gt;&lt;/script&gt;\n    &lt;script src=&quot;https://code.jquery.com/jquery-3.7.1.min.js&quot;&gt;&lt;/script&gt;\n    &lt;script src=&quot;https://cdn.jsdelivr.net/npm/bootstrap@5.2.2/dist/js/bootstrap.bundle.min.js&quot;&gt;&lt;/script&gt;\n    &lt;script src=&quot;https://cdnjs.cloudflare.com/ajax/libs/Leaflet.awesome-markers/2.0.2/leaflet.awesome-markers.js&quot;&gt;&lt;/script&gt;\n    &lt;link rel=&quot;stylesheet&quot; href=&quot;https://cdn.jsdelivr.net/npm/leaflet@1.9.3/dist/leaflet.css&quot;/&gt;\n    &lt;link rel=&quot;stylesheet&quot; href=&quot;https://cdn.jsdelivr.net/npm/bootstrap@5.2.2/dist/css/bootstrap.min.css&quot;/&gt;\n    &lt;link rel=&quot;stylesheet&quot; href=&quot;https://netdna.bootstrapcdn.com/bootstrap/3.0.0/css/bootstrap-glyphicons.css&quot;/&gt;\n    &lt;link rel=&quot;stylesheet&quot; href=&quot;https://cdn.jsdelivr.net/npm/@fortawesome/fontawesome-free@6.2.0/css/all.min.css&quot;/&gt;\n    &lt;link rel=&quot;stylesheet&quot; href=&quot;https://cdnjs.cloudflare.com/ajax/libs/Leaflet.awesome-markers/2.0.2/leaflet.awesome-markers.css&quot;/&gt;\n    &lt;link rel=&quot;stylesheet&quot; href=&quot;https://cdn.jsdelivr.net/gh/python-visualization/folium/folium/templates/leaflet.awesome.rotate.min.css&quot;/&gt;\n    \n            &lt;meta name=&quot;viewport&quot; content=&quot;width=device-width,\n                initial-scale=1.0, maximum-scale=1.0, user-scalable=no&quot; /&gt;\n            &lt;style&gt;\n                #map_395c5e3ad91c5cc15dc381325c2df569 {\n                    position: relative;\n                    width: 100.0%;\n                    height: 100.0%;\n                    left: 0.0%;\n                    top: 0.0%;\n                }\n                .leaflet-container { font-size: 1rem; }\n            &lt;/style&gt;\n\n            &lt;style&gt;html, body {\n                width: 100%;\n                height: 100%;\n                margin: 0;\n                padding: 0;\n            }\n            &lt;/style&gt;\n\n            &lt;style&gt;#map {\n                position:absolute;\n                top:0;\n                bottom:0;\n                right:0;\n                left:0;\n                }\n            &lt;/style&gt;\n\n            &lt;script&gt;\n                L_NO_TOUCH = false;\n                L_DISABLE_3D = false;\n            &lt;/script&gt;\n\n        \n&lt;/head&gt;\n&lt;body&gt;\n    \n    \n            &lt;div class=&quot;folium-map&quot; id=&quot;map_395c5e3ad91c5cc15dc381325c2df569&quot; &gt;&lt;/div&gt;\n        \n&lt;/body&gt;\n&lt;script&gt;\n    \n    \n            var map_395c5e3ad91c5cc15dc381325c2df569 = L.map(\n                &quot;map_395c5e3ad91c5cc15dc381325c2df569&quot;,\n                {\n                    center: [30.08289697, -90.602954325],\n                    crs: L.CRS.EPSG3857,\n                    ...{\n  &quot;zoom&quot;: 5,\n  &quot;zoomControl&quot;: true,\n  &quot;preferCanvas&quot;: false,\n}\n\n                }\n            );\n\n            \n\n        \n    \n            var tile_layer_9a9bc427179d1082d9eeb9947ed759ab = L.tileLayer(\n                &quot;https://tile.openstreetmap.org/{z}/{x}/{y}.png&quot;,\n                {\n  &quot;minZoom&quot;: 0,\n  &quot;maxZoom&quot;: 19,\n  &quot;maxNativeZoom&quot;: 19,\n  &quot;noWrap&quot;: false,\n  &quot;attribution&quot;: &quot;\\u0026copy; \\u003ca href=\\&quot;https://www.openstreetmap.org/copyright\\&quot;\\u003eOpenStreetMap\\u003c/a\\u003e contributors&quot;,\n  &quot;subdomains&quot;: &quot;abc&quot;,\n  &quot;detectRetina&quot;: false,\n  &quot;tms&quot;: false,\n  &quot;opacity&quot;: 1,\n}\n\n            );\n        \n    \n            tile_layer_9a9bc427179d1082d9eeb9947ed759ab.addTo(map_395c5e3ad91c5cc15dc381325c2df569);\n        \n    \n            var circle_81ca6c1995969b131e06448a38f2093e = L.circle(\n                [34.63283416, -120.6107455],\n                {&quot;bubblingMouseEvents&quot;: true, &quot;color&quot;: &quot;#007849&quot;, &quot;dashArray&quot;: null, &quot;dashOffset&quot;: null, &quot;fill&quot;: true, &quot;fillColor&quot;: &quot;#007849&quot;, &quot;fillOpacity&quot;: 0.6, &quot;fillRule&quot;: &quot;evenodd&quot;, &quot;lineCap&quot;: &quot;round&quot;, &quot;lineJoin&quot;: &quot;round&quot;, &quot;opacity&quot;: 1.0, &quot;radius&quot;: 1000, &quot;stroke&quot;: true, &quot;weight&quot;: 3}\n            ).addTo(map_395c5e3ad91c5cc15dc381325c2df569);\n        \n    \n        var popup_01f23837e02a36ed106ad74ece267950 = L.popup({\n  &quot;maxWidth&quot;: &quot;100%&quot;,\n});\n\n        \n            \n                var html_deef2fd1fc09813e4dce1f91dc0240c3 = $(`&lt;div id=&quot;html_deef2fd1fc09813e4dce1f91dc0240c3&quot; style=&quot;width: 100.0%; height: 100.0%;&quot;&gt;VAFB SLC-4E&lt;/div&gt;`)[0];\n                popup_01f23837e02a36ed106ad74ece267950.setContent(html_deef2fd1fc09813e4dce1f91dc0240c3);\n            \n        \n\n        circle_81ca6c1995969b131e06448a38f2093e.bindPopup(popup_01f23837e02a36ed106ad74ece267950)\n        ;\n\n        \n    \n    \n            var marker_5c93589c00349f3cf6c647165fcc0509 = L.marker(\n                [34.63283416, -120.6107455],\n                {\n}\n            ).addTo(map_395c5e3ad91c5cc15dc381325c2df569);\n        \n    \n            var div_icon_87a7e7b69bd80a7d1924d4e0d3eb621c = L.divIcon({\n  &quot;html&quot;: &quot;\\u003cdiv style=\\&quot;font-size: 12pt; color:#007849;\\&quot;\\u003e\\u003cb\\u003eVAFB SLC-4E\\u003c/b\\u003e\\u003c/div\\u003e&quot;,\n  &quot;iconSize&quot;: [150, 36],\n  &quot;iconAnchor&quot;: [0, 0],\n  &quot;className&quot;: &quot;empty&quot;,\n});\n        \n    \n                marker_5c93589c00349f3cf6c647165fcc0509.setIcon(div_icon_87a7e7b69bd80a7d1924d4e0d3eb621c);\n            \n&lt;/script&gt;\n&lt;/html&gt;\" style=\"position:absolute;width:100%;height:100%;left:0;top:0;border:none !important;\" allowfullscreen webkitallowfullscreen mozallowfullscreen></iframe></div></div>"
          },
          "metadata": {}
        }
      ],
      "execution_count": 13
    },
    {
      "cell_type": "code",
      "source": "",
      "metadata": {
        "trusted": true
      },
      "outputs": [],
      "execution_count": null
    },
    {
      "cell_type": "code",
      "source": "site_map = folium.Map(location=[launch_sites_df['Lat'].mean(), launch_sites_df['Long'].mean()], zoom_start=5)\n\n# Add a circle and a label marker for each site\nfor index, site in launch_sites_df.iterrows():\n    coord = [site['Lat'], site['Long']]\n    \n    # Circle around the launch site\n    folium.Circle(\n        coord,\n        radius=1000,\n        color='#007849',\n        fill=True,\n        fill_opacity=0.6,\n        popup=site['Launch Site']\n    ).add_to(site_map)\n\n    # Label marker with site name\n    folium.Marker(\n        coord,\n        icon=DivIcon(\n            icon_size=(150,36),\n            icon_anchor=(0,0),\n            html=f'<div style=\"font-size: 12pt; color:#007849;\"><b>{site[\"Launch Site\"]}</b></div>'\n        )\n    ).add_to(site_map)\n\n# Important: Display the map\nsite_map",
      "metadata": {
        "trusted": true,
        "scrolled": true
      },
      "outputs": [
        {
          "execution_count": 16,
          "output_type": "execute_result",
          "data": {
            "text/plain": "<folium.folium.Map at 0x5ad7cc8>",
            "text/html": "<div style=\"width:100%;\"><div style=\"position:relative;width:100%;height:0;padding-bottom:60%;\"><span style=\"color:#565656\">Make this Notebook Trusted to load map: File -> Trust Notebook</span><iframe srcdoc=\"&lt;!DOCTYPE html&gt;\n&lt;html&gt;\n&lt;head&gt;\n    \n    &lt;meta http-equiv=&quot;content-type&quot; content=&quot;text/html; charset=UTF-8&quot; /&gt;\n    &lt;script src=&quot;https://cdn.jsdelivr.net/npm/leaflet@1.9.3/dist/leaflet.js&quot;&gt;&lt;/script&gt;\n    &lt;script src=&quot;https://code.jquery.com/jquery-3.7.1.min.js&quot;&gt;&lt;/script&gt;\n    &lt;script src=&quot;https://cdn.jsdelivr.net/npm/bootstrap@5.2.2/dist/js/bootstrap.bundle.min.js&quot;&gt;&lt;/script&gt;\n    &lt;script src=&quot;https://cdnjs.cloudflare.com/ajax/libs/Leaflet.awesome-markers/2.0.2/leaflet.awesome-markers.js&quot;&gt;&lt;/script&gt;\n    &lt;link rel=&quot;stylesheet&quot; href=&quot;https://cdn.jsdelivr.net/npm/leaflet@1.9.3/dist/leaflet.css&quot;/&gt;\n    &lt;link rel=&quot;stylesheet&quot; href=&quot;https://cdn.jsdelivr.net/npm/bootstrap@5.2.2/dist/css/bootstrap.min.css&quot;/&gt;\n    &lt;link rel=&quot;stylesheet&quot; href=&quot;https://netdna.bootstrapcdn.com/bootstrap/3.0.0/css/bootstrap-glyphicons.css&quot;/&gt;\n    &lt;link rel=&quot;stylesheet&quot; href=&quot;https://cdn.jsdelivr.net/npm/@fortawesome/fontawesome-free@6.2.0/css/all.min.css&quot;/&gt;\n    &lt;link rel=&quot;stylesheet&quot; href=&quot;https://cdnjs.cloudflare.com/ajax/libs/Leaflet.awesome-markers/2.0.2/leaflet.awesome-markers.css&quot;/&gt;\n    &lt;link rel=&quot;stylesheet&quot; href=&quot;https://cdn.jsdelivr.net/gh/python-visualization/folium/folium/templates/leaflet.awesome.rotate.min.css&quot;/&gt;\n    \n            &lt;meta name=&quot;viewport&quot; content=&quot;width=device-width,\n                initial-scale=1.0, maximum-scale=1.0, user-scalable=no&quot; /&gt;\n            &lt;style&gt;\n                #map_3d203a060808191b648f95ea318cf86b {\n                    position: relative;\n                    width: 100.0%;\n                    height: 100.0%;\n                    left: 0.0%;\n                    top: 0.0%;\n                }\n                .leaflet-container { font-size: 1rem; }\n            &lt;/style&gt;\n\n            &lt;style&gt;html, body {\n                width: 100%;\n                height: 100%;\n                margin: 0;\n                padding: 0;\n            }\n            &lt;/style&gt;\n\n            &lt;style&gt;#map {\n                position:absolute;\n                top:0;\n                bottom:0;\n                right:0;\n                left:0;\n                }\n            &lt;/style&gt;\n\n            &lt;script&gt;\n                L_NO_TOUCH = false;\n                L_DISABLE_3D = false;\n            &lt;/script&gt;\n\n        \n&lt;/head&gt;\n&lt;body&gt;\n    \n    \n            &lt;div class=&quot;folium-map&quot; id=&quot;map_3d203a060808191b648f95ea318cf86b&quot; &gt;&lt;/div&gt;\n        \n&lt;/body&gt;\n&lt;script&gt;\n    \n    \n            var map_3d203a060808191b648f95ea318cf86b = L.map(\n                &quot;map_3d203a060808191b648f95ea318cf86b&quot;,\n                {\n                    center: [30.08289697, -90.602954325],\n                    crs: L.CRS.EPSG3857,\n                    ...{\n  &quot;zoom&quot;: 5,\n  &quot;zoomControl&quot;: true,\n  &quot;preferCanvas&quot;: false,\n}\n\n                }\n            );\n\n            \n\n        \n    \n            var tile_layer_1c9279e3ea4e9f5840777d012dd87364 = L.tileLayer(\n                &quot;https://tile.openstreetmap.org/{z}/{x}/{y}.png&quot;,\n                {\n  &quot;minZoom&quot;: 0,\n  &quot;maxZoom&quot;: 19,\n  &quot;maxNativeZoom&quot;: 19,\n  &quot;noWrap&quot;: false,\n  &quot;attribution&quot;: &quot;\\u0026copy; \\u003ca href=\\&quot;https://www.openstreetmap.org/copyright\\&quot;\\u003eOpenStreetMap\\u003c/a\\u003e contributors&quot;,\n  &quot;subdomains&quot;: &quot;abc&quot;,\n  &quot;detectRetina&quot;: false,\n  &quot;tms&quot;: false,\n  &quot;opacity&quot;: 1,\n}\n\n            );\n        \n    \n            tile_layer_1c9279e3ea4e9f5840777d012dd87364.addTo(map_3d203a060808191b648f95ea318cf86b);\n        \n    \n            var circle_d6d2f6d828c0e54bdc9a58197931d412 = L.circle(\n                [28.56230197, -80.57735648],\n                {&quot;bubblingMouseEvents&quot;: true, &quot;color&quot;: &quot;#007849&quot;, &quot;dashArray&quot;: null, &quot;dashOffset&quot;: null, &quot;fill&quot;: true, &quot;fillColor&quot;: &quot;#007849&quot;, &quot;fillOpacity&quot;: 0.6, &quot;fillRule&quot;: &quot;evenodd&quot;, &quot;lineCap&quot;: &quot;round&quot;, &quot;lineJoin&quot;: &quot;round&quot;, &quot;opacity&quot;: 1.0, &quot;radius&quot;: 1000, &quot;stroke&quot;: true, &quot;weight&quot;: 3}\n            ).addTo(map_3d203a060808191b648f95ea318cf86b);\n        \n    \n        var popup_618f4eeea50a9e25daa2274859f4831c = L.popup({\n  &quot;maxWidth&quot;: &quot;100%&quot;,\n});\n\n        \n            \n                var html_998cbd8b7d17d133ce39ed09ea8ba552 = $(`&lt;div id=&quot;html_998cbd8b7d17d133ce39ed09ea8ba552&quot; style=&quot;width: 100.0%; height: 100.0%;&quot;&gt;CCAFS LC-40&lt;/div&gt;`)[0];\n                popup_618f4eeea50a9e25daa2274859f4831c.setContent(html_998cbd8b7d17d133ce39ed09ea8ba552);\n            \n        \n\n        circle_d6d2f6d828c0e54bdc9a58197931d412.bindPopup(popup_618f4eeea50a9e25daa2274859f4831c)\n        ;\n\n        \n    \n    \n            var marker_c4b2990ea2cc68fa08747b0679cc2702 = L.marker(\n                [28.56230197, -80.57735648],\n                {\n}\n            ).addTo(map_3d203a060808191b648f95ea318cf86b);\n        \n    \n            var div_icon_d871012c3d392d54ac736ff0fe5a14bc = L.divIcon({\n  &quot;html&quot;: &quot;\\u003cdiv style=\\&quot;font-size: 12pt; color:#007849;\\&quot;\\u003e\\u003cb\\u003eCCAFS LC-40\\u003c/b\\u003e\\u003c/div\\u003e&quot;,\n  &quot;iconSize&quot;: [150, 36],\n  &quot;iconAnchor&quot;: [0, 0],\n  &quot;className&quot;: &quot;empty&quot;,\n});\n        \n    \n                marker_c4b2990ea2cc68fa08747b0679cc2702.setIcon(div_icon_d871012c3d392d54ac736ff0fe5a14bc);\n            \n    \n            var circle_29c82d8e1ddc3c55a4a2bb557c833895 = L.circle(\n                [28.56319718, -80.57682003],\n                {&quot;bubblingMouseEvents&quot;: true, &quot;color&quot;: &quot;#007849&quot;, &quot;dashArray&quot;: null, &quot;dashOffset&quot;: null, &quot;fill&quot;: true, &quot;fillColor&quot;: &quot;#007849&quot;, &quot;fillOpacity&quot;: 0.6, &quot;fillRule&quot;: &quot;evenodd&quot;, &quot;lineCap&quot;: &quot;round&quot;, &quot;lineJoin&quot;: &quot;round&quot;, &quot;opacity&quot;: 1.0, &quot;radius&quot;: 1000, &quot;stroke&quot;: true, &quot;weight&quot;: 3}\n            ).addTo(map_3d203a060808191b648f95ea318cf86b);\n        \n    \n        var popup_3a3c93042716343a3ac1d4854674b2ed = L.popup({\n  &quot;maxWidth&quot;: &quot;100%&quot;,\n});\n\n        \n            \n                var html_8134af720c0eef201683b37c306beda6 = $(`&lt;div id=&quot;html_8134af720c0eef201683b37c306beda6&quot; style=&quot;width: 100.0%; height: 100.0%;&quot;&gt;CCAFS SLC-40&lt;/div&gt;`)[0];\n                popup_3a3c93042716343a3ac1d4854674b2ed.setContent(html_8134af720c0eef201683b37c306beda6);\n            \n        \n\n        circle_29c82d8e1ddc3c55a4a2bb557c833895.bindPopup(popup_3a3c93042716343a3ac1d4854674b2ed)\n        ;\n\n        \n    \n    \n            var marker_4a726ce86a1bf8fdc389a852bb1e2915 = L.marker(\n                [28.56319718, -80.57682003],\n                {\n}\n            ).addTo(map_3d203a060808191b648f95ea318cf86b);\n        \n    \n            var div_icon_a31c14d4612bfb68639425750bd68aed = L.divIcon({\n  &quot;html&quot;: &quot;\\u003cdiv style=\\&quot;font-size: 12pt; color:#007849;\\&quot;\\u003e\\u003cb\\u003eCCAFS SLC-40\\u003c/b\\u003e\\u003c/div\\u003e&quot;,\n  &quot;iconSize&quot;: [150, 36],\n  &quot;iconAnchor&quot;: [0, 0],\n  &quot;className&quot;: &quot;empty&quot;,\n});\n        \n    \n                marker_4a726ce86a1bf8fdc389a852bb1e2915.setIcon(div_icon_a31c14d4612bfb68639425750bd68aed);\n            \n    \n            var circle_9eb96ac3fb40d9c830cc2ac5d38852e1 = L.circle(\n                [28.57325457, -80.64689529],\n                {&quot;bubblingMouseEvents&quot;: true, &quot;color&quot;: &quot;#007849&quot;, &quot;dashArray&quot;: null, &quot;dashOffset&quot;: null, &quot;fill&quot;: true, &quot;fillColor&quot;: &quot;#007849&quot;, &quot;fillOpacity&quot;: 0.6, &quot;fillRule&quot;: &quot;evenodd&quot;, &quot;lineCap&quot;: &quot;round&quot;, &quot;lineJoin&quot;: &quot;round&quot;, &quot;opacity&quot;: 1.0, &quot;radius&quot;: 1000, &quot;stroke&quot;: true, &quot;weight&quot;: 3}\n            ).addTo(map_3d203a060808191b648f95ea318cf86b);\n        \n    \n        var popup_1bfb9b6bf6a8b1cc338db6e51a8fb72d = L.popup({\n  &quot;maxWidth&quot;: &quot;100%&quot;,\n});\n\n        \n            \n                var html_373d5ad46c697ff5cc9701e02c675372 = $(`&lt;div id=&quot;html_373d5ad46c697ff5cc9701e02c675372&quot; style=&quot;width: 100.0%; height: 100.0%;&quot;&gt;KSC LC-39A&lt;/div&gt;`)[0];\n                popup_1bfb9b6bf6a8b1cc338db6e51a8fb72d.setContent(html_373d5ad46c697ff5cc9701e02c675372);\n            \n        \n\n        circle_9eb96ac3fb40d9c830cc2ac5d38852e1.bindPopup(popup_1bfb9b6bf6a8b1cc338db6e51a8fb72d)\n        ;\n\n        \n    \n    \n            var marker_ca1280c02b6fbeccac5aa587ec9616c5 = L.marker(\n                [28.57325457, -80.64689529],\n                {\n}\n            ).addTo(map_3d203a060808191b648f95ea318cf86b);\n        \n    \n            var div_icon_5d0e11a017aa74cff5bd7e740c95974e = L.divIcon({\n  &quot;html&quot;: &quot;\\u003cdiv style=\\&quot;font-size: 12pt; color:#007849;\\&quot;\\u003e\\u003cb\\u003eKSC LC-39A\\u003c/b\\u003e\\u003c/div\\u003e&quot;,\n  &quot;iconSize&quot;: [150, 36],\n  &quot;iconAnchor&quot;: [0, 0],\n  &quot;className&quot;: &quot;empty&quot;,\n});\n        \n    \n                marker_ca1280c02b6fbeccac5aa587ec9616c5.setIcon(div_icon_5d0e11a017aa74cff5bd7e740c95974e);\n            \n    \n            var circle_fe5066d2e13d3b305b7cdaf4c8bdf9d4 = L.circle(\n                [34.63283416, -120.6107455],\n                {&quot;bubblingMouseEvents&quot;: true, &quot;color&quot;: &quot;#007849&quot;, &quot;dashArray&quot;: null, &quot;dashOffset&quot;: null, &quot;fill&quot;: true, &quot;fillColor&quot;: &quot;#007849&quot;, &quot;fillOpacity&quot;: 0.6, &quot;fillRule&quot;: &quot;evenodd&quot;, &quot;lineCap&quot;: &quot;round&quot;, &quot;lineJoin&quot;: &quot;round&quot;, &quot;opacity&quot;: 1.0, &quot;radius&quot;: 1000, &quot;stroke&quot;: true, &quot;weight&quot;: 3}\n            ).addTo(map_3d203a060808191b648f95ea318cf86b);\n        \n    \n        var popup_4a7a687d514ea73a81a7c56e070f6016 = L.popup({\n  &quot;maxWidth&quot;: &quot;100%&quot;,\n});\n\n        \n            \n                var html_c078c1d9b9c5f84d9c75e8c3e69428bf = $(`&lt;div id=&quot;html_c078c1d9b9c5f84d9c75e8c3e69428bf&quot; style=&quot;width: 100.0%; height: 100.0%;&quot;&gt;VAFB SLC-4E&lt;/div&gt;`)[0];\n                popup_4a7a687d514ea73a81a7c56e070f6016.setContent(html_c078c1d9b9c5f84d9c75e8c3e69428bf);\n            \n        \n\n        circle_fe5066d2e13d3b305b7cdaf4c8bdf9d4.bindPopup(popup_4a7a687d514ea73a81a7c56e070f6016)\n        ;\n\n        \n    \n    \n            var marker_174dc5406bc07b94f3d20d379df399ec = L.marker(\n                [34.63283416, -120.6107455],\n                {\n}\n            ).addTo(map_3d203a060808191b648f95ea318cf86b);\n        \n    \n            var div_icon_fb15f6170678748baaba20018555de62 = L.divIcon({\n  &quot;html&quot;: &quot;\\u003cdiv style=\\&quot;font-size: 12pt; color:#007849;\\&quot;\\u003e\\u003cb\\u003eVAFB SLC-4E\\u003c/b\\u003e\\u003c/div\\u003e&quot;,\n  &quot;iconSize&quot;: [150, 36],\n  &quot;iconAnchor&quot;: [0, 0],\n  &quot;className&quot;: &quot;empty&quot;,\n});\n        \n    \n                marker_174dc5406bc07b94f3d20d379df399ec.setIcon(div_icon_fb15f6170678748baaba20018555de62);\n            \n&lt;/script&gt;\n&lt;/html&gt;\" style=\"position:absolute;width:100%;height:100%;left:0;top:0;border:none !important;\" allowfullscreen webkitallowfullscreen mozallowfullscreen></iframe></div></div>"
          },
          "metadata": {}
        }
      ],
      "execution_count": 16
    },
    {
      "cell_type": "code",
      "source": "",
      "metadata": {
        "trusted": true
      },
      "outputs": [
        {
          "ename": "<class 'ImportError'>",
          "evalue": "cannot import name 'document' from 'js' (unknown location)",
          "traceback": [
            "\u001b[0;31m---------------------------------------------------------------------------\u001b[0m",
            "\u001b[0;31mImportError\u001b[0m                               Traceback (most recent call last)",
            "Cell \u001b[0;32mIn[14], line 2\u001b[0m\n\u001b[1;32m      1\u001b[0m \u001b[38;5;28;01mfrom\u001b[39;00m \u001b[38;5;21;01mpyodide\u001b[39;00m\u001b[38;5;21;01m.\u001b[39;00m\u001b[38;5;21;01mffi\u001b[39;00m \u001b[38;5;28;01mimport\u001b[39;00m to_js\n\u001b[0;32m----> 2\u001b[0m \u001b[38;5;28;01mfrom\u001b[39;00m \u001b[38;5;21;01mjs\u001b[39;00m \u001b[38;5;28;01mimport\u001b[39;00m document\n\u001b[1;32m      4\u001b[0m \u001b[38;5;66;03m# Initialize map\u001b[39;00m\n\u001b[1;32m      5\u001b[0m site_map \u001b[38;5;241m=\u001b[39m folium\u001b[38;5;241m.\u001b[39mMap(location\u001b[38;5;241m=\u001b[39m[launch_sites_df[\u001b[38;5;124m'\u001b[39m\u001b[38;5;124mLat\u001b[39m\u001b[38;5;124m'\u001b[39m]\u001b[38;5;241m.\u001b[39mmean(), launch_sites_df[\u001b[38;5;124m'\u001b[39m\u001b[38;5;124mLong\u001b[39m\u001b[38;5;124m'\u001b[39m]\u001b[38;5;241m.\u001b[39mmean()], zoom_start\u001b[38;5;241m=\u001b[39m\u001b[38;5;241m5\u001b[39m)\n",
            "\u001b[0;31mImportError\u001b[0m: cannot import name 'document' from 'js' (unknown location)"
          ],
          "output_type": "error"
        }
      ],
      "execution_count": 14
    },
    {
      "cell_type": "code",
      "source": "",
      "metadata": {
        "trusted": true
      },
      "outputs": [],
      "execution_count": null
    },
    {
      "cell_type": "code",
      "source": "site_success = spacex_df.groupby('Launch Site')['class'].agg(['count', 'sum']).reset_index()\nsite_success['success_rate'] = site_success['sum'] / site_success['count']\n\n# Merge to get latitude and longitude for each site\nlaunch_locations = spacex_df.groupby('Launch Site').agg({'Lat': 'first', 'Long': 'first'}).reset_index()\nsite_success = site_success.merge(launch_locations, on='Launch Site')",
      "metadata": {
        "trusted": true
      },
      "outputs": [],
      "execution_count": 17
    },
    {
      "cell_type": "code",
      "source": "import folium\nfrom folium.plugins import MarkerCluster\n\n# Create map centered around average coordinates\nsite_map = folium.Map(location=[spacex_df['Lat'].mean(), spacex_df['Long'].mean()], zoom_start=4)\n\n# Add clustered markers for each launch site\nmarker_cluster = MarkerCluster().add_to(site_map)\n\nfor index, row in site_success.iterrows():\n    site = row['Launch Site']\n    lat = row['Lat']\n    lon = row['Long']\n    rate = row['success_rate']\n    total = row['count']\n    success = row['sum']\n    \n    popup_text = (f\"<b>Launch Site:</b> {site}<br>\"\n                  f\"<b>Total Launches:</b> {total}<br>\"\n                  f\"<b>Successful Launches:</b> {success}<br>\"\n                  f\"<b>Success Rate:</b> {rate:.2%}\")\n    \n    folium.CircleMarker(\n        location=[lat, lon],\n        radius=10,\n        color='green' if rate >= 0.8 else 'orange' if rate >= 0.5 else 'red',\n        fill=True,\n        fill_opacity=0.6,\n        popup=folium.Popup(popup_text, max_width=300)\n    ).add_to(marker_cluster)\n\n# Display the map\nsite_map.save(\"launch_success_map.html\")",
      "metadata": {
        "trusted": true
      },
      "outputs": [],
      "execution_count": 21
    },
    {
      "cell_type": "code",
      "source": "",
      "metadata": {
        "trusted": true
      },
      "outputs": [],
      "execution_count": null
    },
    {
      "cell_type": "code",
      "source": "spacex_df.tail(10)",
      "metadata": {
        "trusted": true
      },
      "outputs": [
        {
          "execution_count": 22,
          "output_type": "execute_result",
          "data": {
            "text/plain": "     Launch Site        Lat       Long  class\n46    KSC LC-39A  28.573255 -80.646895      1\n47    KSC LC-39A  28.573255 -80.646895      1\n48    KSC LC-39A  28.573255 -80.646895      1\n49  CCAFS SLC-40  28.563197 -80.576820      1\n50  CCAFS SLC-40  28.563197 -80.576820      1\n51  CCAFS SLC-40  28.563197 -80.576820      0\n52  CCAFS SLC-40  28.563197 -80.576820      0\n53  CCAFS SLC-40  28.563197 -80.576820      0\n54  CCAFS SLC-40  28.563197 -80.576820      1\n55  CCAFS SLC-40  28.563197 -80.576820      0",
            "text/html": "<div>\n<style scoped>\n    .dataframe tbody tr th:only-of-type {\n        vertical-align: middle;\n    }\n\n    .dataframe tbody tr th {\n        vertical-align: top;\n    }\n\n    .dataframe thead th {\n        text-align: right;\n    }\n</style>\n<table border=\"1\" class=\"dataframe\">\n  <thead>\n    <tr style=\"text-align: right;\">\n      <th></th>\n      <th>Launch Site</th>\n      <th>Lat</th>\n      <th>Long</th>\n      <th>class</th>\n    </tr>\n  </thead>\n  <tbody>\n    <tr>\n      <th>46</th>\n      <td>KSC LC-39A</td>\n      <td>28.573255</td>\n      <td>-80.646895</td>\n      <td>1</td>\n    </tr>\n    <tr>\n      <th>47</th>\n      <td>KSC LC-39A</td>\n      <td>28.573255</td>\n      <td>-80.646895</td>\n      <td>1</td>\n    </tr>\n    <tr>\n      <th>48</th>\n      <td>KSC LC-39A</td>\n      <td>28.573255</td>\n      <td>-80.646895</td>\n      <td>1</td>\n    </tr>\n    <tr>\n      <th>49</th>\n      <td>CCAFS SLC-40</td>\n      <td>28.563197</td>\n      <td>-80.576820</td>\n      <td>1</td>\n    </tr>\n    <tr>\n      <th>50</th>\n      <td>CCAFS SLC-40</td>\n      <td>28.563197</td>\n      <td>-80.576820</td>\n      <td>1</td>\n    </tr>\n    <tr>\n      <th>51</th>\n      <td>CCAFS SLC-40</td>\n      <td>28.563197</td>\n      <td>-80.576820</td>\n      <td>0</td>\n    </tr>\n    <tr>\n      <th>52</th>\n      <td>CCAFS SLC-40</td>\n      <td>28.563197</td>\n      <td>-80.576820</td>\n      <td>0</td>\n    </tr>\n    <tr>\n      <th>53</th>\n      <td>CCAFS SLC-40</td>\n      <td>28.563197</td>\n      <td>-80.576820</td>\n      <td>0</td>\n    </tr>\n    <tr>\n      <th>54</th>\n      <td>CCAFS SLC-40</td>\n      <td>28.563197</td>\n      <td>-80.576820</td>\n      <td>1</td>\n    </tr>\n    <tr>\n      <th>55</th>\n      <td>CCAFS SLC-40</td>\n      <td>28.563197</td>\n      <td>-80.576820</td>\n      <td>0</td>\n    </tr>\n  </tbody>\n</table>\n</div>"
          },
          "metadata": {}
        }
      ],
      "execution_count": 22
    },
    {
      "cell_type": "code",
      "source": "marker_cluster = MarkerCluster()",
      "metadata": {
        "trusted": true
      },
      "outputs": [],
      "execution_count": 23
    },
    {
      "cell_type": "code",
      "source": "formatter = \"function(num) {return L.Util.formatNum(num, 5);};\"\nmouse_position = MousePosition(\n    position='topright',\n    separator=' Long: ',\n    empty_string='NaN',\n    lng_first=False,\n    num_digits=20,\n    prefix='Lat:',\n    lat_formatter=formatter,\n    lng_formatter=formatter,\n)\n\nsite_map.add_child(mouse_position)\nsite_map.save(\"launch_success_map1.html\")",
      "metadata": {
        "trusted": true
      },
      "outputs": [],
      "execution_count": 25
    },
    {
      "cell_type": "code",
      "source": "from math import sin, cos, sqrt, atan2, radians\n\ndef calculate_distance(lat1, lon1, lat2, lon2):\n    # approximate radius of earth in km\n    R = 6373.0\n\n    lat1 = radians(lat1)\n    lon1 = radians(lon1)\n    lat2 = radians(lat2)\n    lon2 = radians(lon2)\n\n    dlon = lon2 - lon1\n    dlat = lat2 - lat1\n\n    a = sin(dlat / 2)**2 + cos(lat1) * cos(lat2) * sin(dlon / 2)**2\n    c = 2 * atan2(sqrt(a), sqrt(1 - a))\n\n    distance = R * c\n    return distance",
      "metadata": {
        "trusted": true
      },
      "outputs": [],
      "execution_count": 26
    },
    {
      "cell_type": "code",
      "source": "",
      "metadata": {
        "trusted": true
      },
      "outputs": [],
      "execution_count": null
    }
  ]
}